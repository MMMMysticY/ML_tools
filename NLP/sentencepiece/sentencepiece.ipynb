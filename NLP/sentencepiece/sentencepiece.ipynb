{
 "cells": [
  {
   "cell_type": "code",
   "execution_count": 1,
   "metadata": {
    "collapsed": true
   },
   "outputs": [],
   "source": [
    "import sentencepiece as spm\n",
    "import os\n",
    "import re"
   ]
  },
  {
   "cell_type": "code",
   "execution_count": 2,
   "outputs": [
    {
     "data": {
      "text/plain": "True"
     },
     "execution_count": 2,
     "metadata": {},
     "output_type": "execute_result"
    }
   ],
   "source": [
    "data_dir = 'ML_tools/NLP/sentencepiece/data_dir'\n",
    "os.path.exists(data_dir)"
   ],
   "metadata": {
    "collapsed": false,
    "pycharm": {
     "name": "#%%\n"
    }
   }
  },
  {
   "cell_type": "code",
   "execution_count": 4,
   "outputs": [],
   "source": [
    "train_dev_raw_zh = os.path.join(data_dir,'train_dev.raw.zh')\n",
    "train_dev_raw_en = os.path.join(data_dir,'train_dev.raw.en')"
   ],
   "metadata": {
    "collapsed": false,
    "pycharm": {
     "name": "#%%\n"
    }
   }
  },
  {
   "cell_type": "code",
   "execution_count": 9,
   "outputs": [
    {
     "name": "stdout",
     "output_type": "stream",
     "text": [
      "----------------------------------粗略查看中英文情况------------------------------\n",
      "----------------------------------中文文字情况------------------------------\n",
      "非常謝謝你，克里斯。能有這個機會第二度踏上這個演講台\n",
      "\n",
      "真是一大榮幸。我非常感激。\n",
      "\n",
      "這個研討會給我留下了極為深刻的印象，我想感謝大家 對我之前演講的好評。\n",
      "\n",
      "我是由衷的想這麼說，有部份原因是因為 —— 我真的有需要!\n",
      "\n",
      "請你們設身處地為我想一想！\n",
      "\n",
      "我曾搭乘副總統專機八年。\n",
      "\n",
      "現在我卻必須脫了鞋子才能上飛機!\n",
      "\n",
      "讓我跟你們說一個很短的故事，你們就會明白我的日子是怎麼過的。\n",
      "\n",
      "這是一個真實的故事 — 徹頭徹尾都是真實的。\n",
      "\n",
      "在我跟我夫人蒂佩爾離開 —— 白宮 —— 後 我們從那什維爾的家開車到 東邊 50 英哩外的一個我們擁有的小農場 —\n",
      "\n",
      "----------------------------------英文文字情况------------------------------\n",
      "Thank you so much, Chris.\n",
      "\n",
      "And it's truly a great honor to have the opportunity to come to this stage twice; I'm extremely grateful.\n",
      "\n",
      "I have been blown away by this conference, and I want to thank all of you for the many nice comments about what I had to say the other night.\n",
      "\n",
      "And I say that sincerely, partly because  I need that.\n",
      "\n",
      "Put yourselves in my position.\n",
      "\n",
      "I flew on Air Force Two for eight years.\n",
      "\n",
      "Now I have to take off my shoes or boots to get on an airplane!\n",
      "\n",
      "I'll tell you one quick story to illustrate what that's been like for me.\n",
      "\n",
      "It's a true story -- every bit of this is true.\n",
      "\n",
      "Soon after Tipper and I left the --  White House --  we were driving from our home in Nashville to a little farm we have 50 miles east of Nashville.\n",
      "\n"
     ]
    }
   ],
   "source": [
    "print('----------------------------------粗略查看中英文情况------------------------------')\n",
    "count = 0\n",
    "test_zh_list = list()\n",
    "with open(train_dev_raw_zh, 'r') as file:\n",
    "    for line in file:\n",
    "        if count == 10:\n",
    "            break\n",
    "        test_zh_list.append(line)\n",
    "        count = count + 1\n",
    "print('----------------------------------中文文字情况------------------------------')\n",
    "for each_zh in test_zh_list:\n",
    "    print(each_zh)\n",
    "\n",
    "count = 0\n",
    "test_en_list = list()\n",
    "with open(train_dev_raw_en, 'r') as file:\n",
    "    for line in file:\n",
    "        if count == 10:\n",
    "            break\n",
    "        test_en_list.append(line)\n",
    "        count = count + 1\n",
    "print('----------------------------------英文文字情况------------------------------')\n",
    "for each_en in test_en_list:\n",
    "    print(each_en)"
   ],
   "metadata": {
    "collapsed": false,
    "pycharm": {
     "name": "#%%\n"
    }
   }
  },
  {
   "cell_type": "markdown",
   "source": [
    "## step1 Q2B\n",
    "中文的标点符号 空格等内容都是全角字 要先将其转化为半角字"
   ],
   "metadata": {
    "collapsed": false,
    "pycharm": {
     "name": "#%% md\n"
    }
   }
  },
  {
   "cell_type": "code",
   "execution_count": 10,
   "outputs": [],
   "source": [
    "def strQ2B(ustring):\n",
    "    # 全角字变半角字\n",
    "    # 对字母 数字 标点符号 从全角字转成半角字\n",
    "    ss = []\n",
    "    for s in ustring:\n",
    "        rstring = \"\"\n",
    "        for uchar in s:\n",
    "            inside_code = ord(uchar)\n",
    "            if inside_code == 12288:  # Full width space: direct conversion\n",
    "                inside_code = 32\n",
    "            elif (inside_code >= 65281 and inside_code <= 65374):  # Full width chars (except space) conversion\n",
    "                inside_code -= 65248\n",
    "            rstring += chr(inside_code)\n",
    "        ss.append(rstring)\n",
    "    return ''.join(ss)"
   ],
   "metadata": {
    "collapsed": false,
    "pycharm": {
     "name": "#%%\n"
    }
   }
  },
  {
   "cell_type": "markdown",
   "source": [
    "## step2 去除符号 统一处理标点符号"
   ],
   "metadata": {
    "collapsed": false,
    "pycharm": {
     "name": "#%% md\n"
    }
   }
  },
  {
   "cell_type": "code",
   "execution_count": 11,
   "outputs": [],
   "source": [
    "def clean_s(s, lang):\n",
    "    '''\n",
    "    清洗中英字符串\n",
    "    :param s:  string 代表每个句子\n",
    "    :param lang: string 取值为zh-en 代表语言\n",
    "    :return: 清洗过后的string句子\n",
    "    '''\n",
    "    if lang == 'en':\n",
    "        s = re.sub(r\"\\([^()]*\\)\", \"\", s) # remove ([text])         # 去掉() []\n",
    "        s = s.replace('-', '') # remove '-'                        # 去掉-\n",
    "        s = re.sub('([.,;!?()\\\"])', r' \\1 ', s) # keep punctuation # 用\\1代表所有标点符号\n",
    "    elif lang == 'zh':\n",
    "        s = strQ2B(s) # Q2B\n",
    "        s = re.sub(r\"\\([^()]*\\)\", \"\", s) # remove ([text])        # 去掉() []\n",
    "        s = s.replace(' ', '')\n",
    "        s = s.replace('—', '')\n",
    "        s = s.replace('“', '\"')\n",
    "        s = s.replace('”', '\"')\n",
    "        s = s.replace('_', '')                                    # 去掉 tab “ — _\n",
    "        s = re.sub('([。,;!?()\\\"~「」])', r' \\1 ', s) # keep punctuation # 用\\1代表所有标点符号\n",
    "    s = ' '.join(s.strip().split())\n",
    "    return s"
   ],
   "metadata": {
    "collapsed": false,
    "pycharm": {
     "name": "#%%\n"
    }
   }
  },
  {
   "cell_type": "code",
   "execution_count": null,
   "outputs": [],
   "source": [
    "def clean(l1, l2, max_len, min_len, ratio):\n",
    "    '''\n",
    "    清洗\n",
    "    :param l1:\n",
    "    :param l2:\n",
    "    :param max_len:\n",
    "    :param min_len:\n",
    "    :param ratio:\n",
    "    :return:\n",
    "    '''"
   ],
   "metadata": {
    "collapsed": false,
    "pycharm": {
     "name": "#%%\n"
    }
   }
  }
 ],
 "metadata": {
  "kernelspec": {
   "display_name": "Python 3",
   "language": "python",
   "name": "python3"
  },
  "language_info": {
   "codemirror_mode": {
    "name": "ipython",
    "version": 2
   },
   "file_extension": ".py",
   "mimetype": "text/x-python",
   "name": "python",
   "nbconvert_exporter": "python",
   "pygments_lexer": "ipython2",
   "version": "2.7.6"
  }
 },
 "nbformat": 4,
 "nbformat_minor": 0
}